{
 "cells": [
  {
   "cell_type": "code",
   "execution_count": 1,
   "id": "500b96bf-ad1d-45f2-b540-2adfceaeaaad",
   "metadata": {},
   "outputs": [],
   "source": [
    "import glob, os\n",
    "\n",
    "import numpy as np\n",
    "import pandas as pd\n",
    "\n",
    "import seaborn as sns\n",
    "import matplotlib.pyplot as plt\n",
    "\n",
    "from tqdm.auto import tqdm\n",
    "from itertools import chain\n",
    "\n",
    "from catboost import CatBoostRanker, CatBoostClassifier"
   ]
  },
  {
   "cell_type": "code",
   "execution_count": 2,
   "id": "9534b4a6-46f9-4419-8eac-ae04326a562f",
   "metadata": {},
   "outputs": [],
   "source": [
    "pd.options.display.max_rows = 300\n",
    "pd.options.display.max_columns = 300"
   ]
  },
  {
   "cell_type": "code",
   "execution_count": 3,
   "id": "ad61716b-11f4-431d-ad9a-36e66c90e961",
   "metadata": {},
   "outputs": [],
   "source": [
    "BASE_DIR = \"/Users/artemvopilov/Programming/yandex_cup_2023\""
   ]
  },
  {
   "cell_type": "code",
   "execution_count": 4,
   "id": "a908baa8-95cc-4f0b-9ac4-e5b22b037225",
   "metadata": {},
   "outputs": [],
   "source": [
    "DATA_DIR = f\"{BASE_DIR}/data\"\n",
    "\n",
    "TRAIN_DF_PATH = f\"{DATA_DIR}/train.csv\"\n",
    "TEST_DF_PATH = f\"{DATA_DIR}/test.csv\""
   ]
  },
  {
   "cell_type": "code",
   "execution_count": 10,
   "id": "6492724d-ec8b-47b7-8732-8ec94105fd58",
   "metadata": {},
   "outputs": [
    {
     "name": "stdout",
     "output_type": "stream",
     "text": [
      "reading from prediction_vae_als.csv\n",
      "reading from prediction_knn_first_e_vae.csv\n",
      "reading from prediction_lstm_normed_2.csv\n",
      "reading from prediction_knn_normed.csv\n",
      "reading from prediction_lstm_pca.csv\n",
      "reading from prediction_lstm_normed.csv\n",
      "reading from prediction_knn_pca.csv\n",
      "reading from prediction_pca_als.csv\n",
      "reading from prediction_pca_als_2.csv\n",
      "reading from prediction_normed_lstm_dssm_dot.csv\n",
      "reading from prediction_knn_vae.csv\n",
      "reading from prediction_lstm_vae_2.csv\n",
      "reading from prediction_vae_dssm_cos.csv\n",
      "reading from prediction_knn_vae_last.csv\n",
      "reading from prediction_knn_normed_lstm.csv\n",
      "reading from prediction_normder_lstm_als.csv\n",
      "reading from prediction_normed_lstm_dssm_cos.csv\n",
      "reading from prediction_lstm_vae.csv\n",
      "reading from prediction_vae_dssm_dot.csv\n"
     ]
    }
   ],
   "source": [
    "preds_dfs = {}\n",
    "for fp in os.listdir(f'{BASE_DIR}/notebooks'):\n",
    "    if not os.path.isfile(fp):\n",
    "        continue\n",
    "    if not (fp.startswith('prediction') and fp.endswith('.csv') and 'final' not in fp):\n",
    "        continue\n",
    "\n",
    "    print(f'reading from {fp}')\n",
    "    pred_name = fp.split('.')[0].split('prediction_')[1]\n",
    "    preds = pd.read_csv(fp)\n",
    "    preds['prediction'] = preds['prediction'].apply(lambda x: list(map(float, x.split(','))))\n",
    "\n",
    "    preds_dfs[pred_name] = preds"
   ]
  },
  {
   "cell_type": "code",
   "execution_count": 11,
   "id": "c6df93aa-6582-4c51-a40a-48a406a7d5aa",
   "metadata": {},
   "outputs": [],
   "source": [
    "train_df = pd.read_csv(TRAIN_DF_PATH)\n",
    "test_df = pd.read_csv(TEST_DF_PATH)"
   ]
  },
  {
   "cell_type": "code",
   "execution_count": 12,
   "id": "61794769-255b-437d-b4d6-dc42e5a4abb7",
   "metadata": {},
   "outputs": [
    {
     "data": {
      "text/plain": [
       "array([17730, 32460, 11288, ...,  5257, 73095, 67472])"
      ]
     },
     "execution_count": 12,
     "metadata": {},
     "output_type": "execute_result"
    }
   ],
   "source": [
    "test_tracks_sorted = test_df['track'].values\n",
    "test_tracks_sorted"
   ]
  },
  {
   "cell_type": "code",
   "execution_count": 19,
   "id": "da08b6bc-0eaa-4144-ba3a-aafd57bc43e7",
   "metadata": {},
   "outputs": [
    {
     "data": {
      "application/vnd.jupyter.widget-view+json": {
       "model_id": "0889e301acbb41c29b638af553f14174",
       "version_major": 2,
       "version_minor": 0
      },
      "text/plain": [
       "  0%|          | 0/19 [00:00<?, ?it/s]"
      ]
     },
     "metadata": {},
     "output_type": "display_data"
    },
    {
     "name": "stdout",
     "output_type": "stream",
     "text": [
      "vae_als\n"
     ]
    },
    {
     "data": {
      "application/vnd.jupyter.widget-view+json": {
       "model_id": "68aee1e5260440009f339433617281c3",
       "version_major": 2,
       "version_minor": 0
      },
      "text/plain": [
       "  0%|          | 0/25580 [00:00<?, ?it/s]"
      ]
     },
     "metadata": {},
     "output_type": "display_data"
    },
    {
     "name": "stdout",
     "output_type": "stream",
     "text": [
      "   track                                         prediction\n",
      "0  17730  0.0047307643818296635,0.004608197774893473,0.0...\n",
      "1  32460  0.004232246555907819,0.005207444220727864,0.00...\n",
      "2  11288  0.0046256180449810915,0.004619240064607455,0.0...\n",
      "3  18523  0.005109836324573963,0.004476020244263724,0.00...\n",
      "4  71342  0.0042640909139698355,0.0035570765473121684,0....\n",
      "knn_first_e_vae\n"
     ]
    },
    {
     "data": {
      "application/vnd.jupyter.widget-view+json": {
       "model_id": "878b2edc69ca45358fc6265fbb3ee612",
       "version_major": 2,
       "version_minor": 0
      },
      "text/plain": [
       "  0%|          | 0/25580 [00:00<?, ?it/s]"
      ]
     },
     "metadata": {},
     "output_type": "display_data"
    },
    {
     "name": "stdout",
     "output_type": "stream",
     "text": [
      "   track                                         prediction\n",
      "0  17730  0.006658522389290557,0.006992375173325447,0.00...\n",
      "1  32460  0.0046950107797955115,0.006326718275954842,0.0...\n",
      "2  11288  0.0049347226072303995,0.005252516996070001,0.0...\n",
      "3  18523  0.006343597239843235,0.0060402822087835635,0.0...\n",
      "4  71342  0.005786774257456198,0.004155422733027662,0.00...\n",
      "lstm_normed_2\n"
     ]
    },
    {
     "data": {
      "application/vnd.jupyter.widget-view+json": {
       "model_id": "87aa97fafbe4432c8ee8a719f96ef075",
       "version_major": 2,
       "version_minor": 0
      },
      "text/plain": [
       "  0%|          | 0/25580 [00:00<?, ?it/s]"
      ]
     },
     "metadata": {},
     "output_type": "display_data"
    },
    {
     "name": "stdout",
     "output_type": "stream",
     "text": [
      "   track                                         prediction\n",
      "0  17730  0.0023040909502699994,0.005149702865532742,0.0...\n",
      "1  32460  0.03342862016186549,0.09463480482914365,0.0919...\n",
      "2  11288  0.02987211661242744,0.04921805809105226,0.0265...\n",
      "3  18523  0.13275510369466853,0.029370835884543145,0.140...\n",
      "4  71342  0.021021876196493924,0.0023080899456725834,0.0...\n",
      "knn_normed\n"
     ]
    },
    {
     "data": {
      "application/vnd.jupyter.widget-view+json": {
       "model_id": "017e1843f2a646ddb4153df2347d6866",
       "version_major": 2,
       "version_minor": 0
      },
      "text/plain": [
       "  0%|          | 0/25580 [00:00<?, ?it/s]"
      ]
     },
     "metadata": {},
     "output_type": "display_data"
    },
    {
     "name": "stdout",
     "output_type": "stream",
     "text": [
      "   track                                         prediction\n",
      "0  17730  0.004714221900310374,0.005417092671431759,0.00...\n",
      "1  32460  0.00440591008509585,0.004541052938336113,0.005...\n",
      "2  11288  0.004244560850268295,0.006402947164765259,0.00...\n",
      "3  18523  0.0057492570507301,0.004002288100627045,0.0052...\n",
      "4  71342  0.003853362469239949,0.004066219880131073,0.00...\n",
      "lstm_pca\n"
     ]
    },
    {
     "data": {
      "application/vnd.jupyter.widget-view+json": {
       "model_id": "c0d7ba6fadec4b84a4adf7982529a9e3",
       "version_major": 2,
       "version_minor": 0
      },
      "text/plain": [
       "  0%|          | 0/25580 [00:00<?, ?it/s]"
      ]
     },
     "metadata": {},
     "output_type": "display_data"
    },
    {
     "name": "stdout",
     "output_type": "stream",
     "text": [
      "   track                                         prediction\n",
      "0  17730  0.11474643910028143,0.05697756060073047,0.0412...\n",
      "1  32460  0.05005645262235391,0.17524512725203695,0.0181...\n",
      "2  11288  0.11474645914522437,0.05697755915857169,0.0412...\n",
      "3  18523  0.11474643935633659,0.056977560727875146,0.041...\n",
      "4  71342  0.11474645802790782,0.05697755860376616,0.0412...\n",
      "lstm_normed\n"
     ]
    },
    {
     "data": {
      "application/vnd.jupyter.widget-view+json": {
       "model_id": "ee01c1e391754936be20752d44678fc8",
       "version_major": 2,
       "version_minor": 0
      },
      "text/plain": [
       "  0%|          | 0/25580 [00:00<?, ?it/s]"
      ]
     },
     "metadata": {},
     "output_type": "display_data"
    },
    {
     "name": "stdout",
     "output_type": "stream",
     "text": [
      "   track                                         prediction\n",
      "0  17730  0.05597115662344964,0.07442184376583777,0.0244...\n",
      "1  32460  0.10547294380506377,0.13393717720667578,0.0454...\n",
      "2  11288  0.040449312302402174,0.1690238183852639,0.0751...\n",
      "3  18523  0.19228998074304907,0.05445426358221426,0.0561...\n",
      "4  71342  0.1086142397601529,0.015921275874638156,0.0197...\n",
      "knn_pca\n"
     ]
    },
    {
     "data": {
      "application/vnd.jupyter.widget-view+json": {
       "model_id": "49d7b756b4704d2183b898cc0130fbd9",
       "version_major": 2,
       "version_minor": 0
      },
      "text/plain": [
       "  0%|          | 0/25580 [00:00<?, ?it/s]"
      ]
     },
     "metadata": {},
     "output_type": "display_data"
    },
    {
     "name": "stdout",
     "output_type": "stream",
     "text": [
      "   track                                         prediction\n",
      "0  17730  0.00508200623540262,0.005319405469765026,0.004...\n",
      "1  32460  0.005373990831422904,0.005423124762010974,0.00...\n",
      "2  11288  0.004274709494658365,0.005996919102759026,0.00...\n",
      "3  18523  0.005161915340788948,0.004665278930695206,0.00...\n",
      "4  71342  0.004305160151707233,0.0040930823686539785,0.0...\n",
      "pca_als\n"
     ]
    },
    {
     "data": {
      "application/vnd.jupyter.widget-view+json": {
       "model_id": "829bf0a66b684669a21283d1c8569a9b",
       "version_major": 2,
       "version_minor": 0
      },
      "text/plain": [
       "  0%|          | 0/25580 [00:00<?, ?it/s]"
      ]
     },
     "metadata": {},
     "output_type": "display_data"
    },
    {
     "name": "stdout",
     "output_type": "stream",
     "text": [
      "   track                                         prediction\n",
      "0  17730  0.0038972099016021224,0.003532816918978879,0.0...\n",
      "1  32460  0.003504065490326404,0.004017039927909007,0.00...\n",
      "2  11288  0.0033549339594479066,0.00358714795769601,0.00...\n",
      "3  18523  0.004175148916396576,0.003472924714868067,0.00...\n",
      "4  71342  0.00336677284735894,0.0031380585844663746,0.00...\n",
      "pca_als_2\n"
     ]
    },
    {
     "data": {
      "application/vnd.jupyter.widget-view+json": {
       "model_id": "cff1950210cb40cba4ae754e4b9759da",
       "version_major": 2,
       "version_minor": 0
      },
      "text/plain": [
       "  0%|          | 0/25580 [00:00<?, ?it/s]"
      ]
     },
     "metadata": {},
     "output_type": "display_data"
    },
    {
     "name": "stdout",
     "output_type": "stream",
     "text": [
      "   track                                         prediction\n",
      "0  17730  0.003899538902029538,0.0035337201278227855,0.0...\n",
      "1  32460  0.003506687553184447,0.004013944492708027,0.00...\n",
      "2  11288  0.003359727485322296,0.0035889566019364555,0.0...\n",
      "3  18523  0.004172665810902078,0.0034711555315893074,0.0...\n",
      "4  71342  0.0033677758554176204,0.0031388589210157867,0....\n",
      "normed_lstm_dssm_dot\n"
     ]
    },
    {
     "data": {
      "application/vnd.jupyter.widget-view+json": {
       "model_id": "f810ef0f501e4184b4971982b988c5b0",
       "version_major": 2,
       "version_minor": 0
      },
      "text/plain": [
       "  0%|          | 0/25580 [00:00<?, ?it/s]"
      ]
     },
     "metadata": {},
     "output_type": "display_data"
    },
    {
     "name": "stdout",
     "output_type": "stream",
     "text": [
      "   track                                         prediction\n",
      "0  17730  0.00017013720404032942,0.00045601148432678667,...\n",
      "1  32460  0.0003283597641103241,0.0007640459635659708,7....\n",
      "2  11288  7.741924384529804e-05,0.00024328433889269244,4...\n",
      "3  18523  6.649949607153463e-05,0.0002152574965246744,3....\n",
      "4  71342  2.3466858667016104e-05,9.256893926647659e-05,5...\n",
      "knn_vae\n"
     ]
    },
    {
     "data": {
      "application/vnd.jupyter.widget-view+json": {
       "model_id": "acec52d2a8c74bc895908146e406dd9d",
       "version_major": 2,
       "version_minor": 0
      },
      "text/plain": [
       "  0%|          | 0/25580 [00:00<?, ?it/s]"
      ]
     },
     "metadata": {},
     "output_type": "display_data"
    },
    {
     "name": "stdout",
     "output_type": "stream",
     "text": [
      "   track                                         prediction\n",
      "0  17730  0.005892314134961234,0.009219337461630067,0.00...\n",
      "1  32460  0.0045514653640295125,0.004629833844266934,0.0...\n",
      "2  11288  0.0058737883704044445,0.005059102772730436,0.0...\n",
      "3  18523  0.0046664540517186584,0.004503954003007108,0.0...\n",
      "4  71342  0.004434558743269639,0.003992547951993532,0.00...\n",
      "lstm_vae_2\n"
     ]
    },
    {
     "data": {
      "application/vnd.jupyter.widget-view+json": {
       "model_id": "435ac5962fd64480b223f8d451c57952",
       "version_major": 2,
       "version_minor": 0
      },
      "text/plain": [
       "  0%|          | 0/25580 [00:00<?, ?it/s]"
      ]
     },
     "metadata": {},
     "output_type": "display_data"
    },
    {
     "name": "stdout",
     "output_type": "stream",
     "text": [
      "   track                                         prediction\n",
      "0  17730  0.03393857097939978,0.05789845235491907,0.0487...\n",
      "1  32460  0.04087810335197326,0.13571717832956703,0.0461...\n",
      "2  11288  0.0571017476847112,0.039959487310544425,0.0572...\n",
      "3  18523  0.058355881278170235,0.0126064520047528,0.1439...\n",
      "4  71342  0.013718956847391897,0.0025886649716979253,0.0...\n",
      "vae_dssm_cos\n"
     ]
    },
    {
     "data": {
      "application/vnd.jupyter.widget-view+json": {
       "model_id": "119c095016b64487bee7c0ff86fe7621",
       "version_major": 2,
       "version_minor": 0
      },
      "text/plain": [
       "  0%|          | 0/25580 [00:00<?, ?it/s]"
      ]
     },
     "metadata": {},
     "output_type": "display_data"
    },
    {
     "name": "stdout",
     "output_type": "stream",
     "text": [
      "   track                                         prediction\n",
      "0  17730  0.003906931469764556,0.0039061514896953048,0.0...\n",
      "1  32460  0.00390693820403257,0.0039061604100681054,0.00...\n",
      "2  11288  0.003906929833246631,0.0039061600095069158,0.0...\n",
      "3  18523  0.00390686182639265,0.0039061474829534867,0.00...\n",
      "4  71342  0.003906879604763235,0.0039061453757428537,0.0...\n",
      "knn_vae_last\n"
     ]
    },
    {
     "data": {
      "application/vnd.jupyter.widget-view+json": {
       "model_id": "3450b7bc477e403eb6edcfb24df810a8",
       "version_major": 2,
       "version_minor": 0
      },
      "text/plain": [
       "  0%|          | 0/25580 [00:00<?, ?it/s]"
      ]
     },
     "metadata": {},
     "output_type": "display_data"
    },
    {
     "name": "stdout",
     "output_type": "stream",
     "text": [
      "   track                                         prediction\n",
      "0  17730  0.004870480630634544,0.00637355973493592,0.004...\n",
      "1  32460  0.004905313250343139,0.005428076183952914,0.00...\n",
      "2  11288  0.006826388340903188,0.004717924549020209,0.00...\n",
      "3  18523  0.004760095001835747,0.005637310512488045,0.00...\n",
      "4  71342  0.005842831061017021,0.004780852511918962,0.00...\n",
      "knn_normed_lstm\n"
     ]
    },
    {
     "data": {
      "application/vnd.jupyter.widget-view+json": {
       "model_id": "c1586ff73be5423eaa6697c412ca01cc",
       "version_major": 2,
       "version_minor": 0
      },
      "text/plain": [
       "  0%|          | 0/25580 [00:00<?, ?it/s]"
      ]
     },
     "metadata": {},
     "output_type": "display_data"
    },
    {
     "name": "stdout",
     "output_type": "stream",
     "text": [
      "   track                                         prediction\n",
      "0  17730  0.003847150537808986,0.004025301535391302,0.00...\n",
      "1  32460  0.004913451409759925,0.0051120008917122555,0.0...\n",
      "2  11288  0.004249468153033917,0.004652139306956722,0.00...\n",
      "3  18523  0.007806214941620327,0.004029221866669217,0.00...\n",
      "4  71342  0.004242994133697241,0.0038581348767982747,0.0...\n",
      "normder_lstm_als\n"
     ]
    },
    {
     "data": {
      "application/vnd.jupyter.widget-view+json": {
       "model_id": "0ff4f2fffc144224b3a73ea878cc9569",
       "version_major": 2,
       "version_minor": 0
      },
      "text/plain": [
       "  0%|          | 0/25580 [00:00<?, ?it/s]"
      ]
     },
     "metadata": {},
     "output_type": "display_data"
    },
    {
     "name": "stdout",
     "output_type": "stream",
     "text": [
      "   track                                         prediction\n",
      "0  17730  0.0037868509713402457,0.003798761887068822,0.0...\n",
      "1  32460  0.004154015802497785,0.005980411687227117,0.00...\n",
      "2  11288  0.004250337862449555,0.004679326301158979,0.00...\n",
      "3  18523  0.00560437024331879,0.0043373652737321,0.00536...\n",
      "4  71342  0.004000284245936667,0.003825799909492643,0.00...\n",
      "normed_lstm_dssm_cos\n"
     ]
    },
    {
     "data": {
      "application/vnd.jupyter.widget-view+json": {
       "model_id": "4b259d98005e46758743700bb2a0060f",
       "version_major": 2,
       "version_minor": 0
      },
      "text/plain": [
       "  0%|          | 0/25580 [00:00<?, ?it/s]"
      ]
     },
     "metadata": {},
     "output_type": "display_data"
    },
    {
     "name": "stdout",
     "output_type": "stream",
     "text": [
      "   track                                         prediction\n",
      "0  17730  0.004236567810665729,0.0042366928336265266,0.0...\n",
      "1  32460  0.004236656804282052,0.0042366972221807575,0.0...\n",
      "2  11288  0.004236608802710172,0.004236655236197104,0.00...\n",
      "3  18523  0.00423665631625448,0.004236596156161927,0.000...\n",
      "4  71342  0.004236641425821992,0.004236660914417373,0.00...\n",
      "lstm_vae\n"
     ]
    },
    {
     "data": {
      "application/vnd.jupyter.widget-view+json": {
       "model_id": "08fe257608e94c28aa5ca7cd350ecc2c",
       "version_major": 2,
       "version_minor": 0
      },
      "text/plain": [
       "  0%|          | 0/25580 [00:00<?, ?it/s]"
      ]
     },
     "metadata": {},
     "output_type": "display_data"
    },
    {
     "name": "stdout",
     "output_type": "stream",
     "text": [
      "   track                                         prediction\n",
      "0  17730  0.1044317626175271,0.10232760383908551,0.04964...\n",
      "1  32460  0.03074999007531406,0.16468009462462094,0.0225...\n",
      "2  11288  0.04229141312508075,0.052203913640701746,0.100...\n",
      "3  18523  0.11965380358824379,0.026864381546765844,0.113...\n",
      "4  71342  0.029474111141628314,0.0038359939874546395,0.0...\n",
      "vae_dssm_dot\n"
     ]
    },
    {
     "data": {
      "application/vnd.jupyter.widget-view+json": {
       "model_id": "746b86c7d01e4d52aa1f76d518e5fb41",
       "version_major": 2,
       "version_minor": 0
      },
      "text/plain": [
       "  0%|          | 0/25580 [00:00<?, ?it/s]"
      ]
     },
     "metadata": {},
     "output_type": "display_data"
    },
    {
     "name": "stdout",
     "output_type": "stream",
     "text": [
      "   track                                         prediction\n",
      "0  17730  0.008680967953305795,7.503312631862434e-93,5.3...\n",
      "1  32460  0.007637902668046786,1.3040915854827534e-53,0....\n",
      "2  11288  0.007117667149877595,4.496614305315884e-44,0.0...\n",
      "3  18523  0.007433242047715463,1.2409303578405475e-49,0....\n",
      "4  71342  0.002008060950390043,8.038259979838685e-305,8....\n"
     ]
    }
   ],
   "source": [
    "for f, preds_df in tqdm(preds_dfs.items()):\n",
    "    print(f)\n",
    "\n",
    "    t_to_preds = {}\n",
    "\n",
    "    for t in tqdm(test_tracks_sorted):\n",
    "        t_preds = np.exp(preds_df[preds_df['track'] == t]['prediction'].values[0])\n",
    "        t_preds_sum = np.sum(t_preds)\n",
    "        t_preds = t_preds / t_preds_sum\n",
    "        t_to_preds[t] = ','.join(map(str, t_preds))\n",
    "    \n",
    "    predictions_df = pd.DataFrame([\n",
    "        {'track': t, 'prediction': preds}\n",
    "        for t, preds in t_to_preds.items()\n",
    "    ])\n",
    "\n",
    "    print(predictions_df.head())\n",
    "    predictions_df.to_csv(f'prediction_final_fff222_{f}.csv', index=False)"
   ]
  },
  {
   "cell_type": "code",
   "execution_count": null,
   "id": "3cc54f8a-e563-46b8-b92e-7fcdce9c1a86",
   "metadata": {},
   "outputs": [],
   "source": []
  }
 ],
 "metadata": {
  "kernelspec": {
   "display_name": "Python 3 (ipykernel)",
   "language": "python",
   "name": "python3"
  },
  "language_info": {
   "codemirror_mode": {
    "name": "ipython",
    "version": 3
   },
   "file_extension": ".py",
   "mimetype": "text/x-python",
   "name": "python",
   "nbconvert_exporter": "python",
   "pygments_lexer": "ipython3",
   "version": "3.10.10"
  }
 },
 "nbformat": 4,
 "nbformat_minor": 5
}
