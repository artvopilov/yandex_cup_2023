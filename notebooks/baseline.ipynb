{
 "cells": [
  {
   "cell_type": "code",
   "execution_count": 135,
   "id": "340aceb6-4360-49ac-8381-bb42055d6146",
   "metadata": {},
   "outputs": [],
   "source": [
    "import pandas as pd\n",
    "import numpy as np\n",
    "import torch\n",
    "import torch.nn as nn\n",
    "from tqdm import tqdm\n",
    "from datetime import datetime\n",
    "from torch.utils.data import Dataset, DataLoader\n",
    "from glob import glob\n",
    "from torch.nn.utils.rnn import pad_sequence"
   ]
  },
  {
   "cell_type": "code",
   "execution_count": 35,
   "id": "32801790-6619-4141-b909-a70de5e00071",
   "metadata": {},
   "outputs": [],
   "source": [
    "DEVICE = 'cpu'\n",
    "NUM_TAGS = 256"
   ]
  },
  {
   "cell_type": "code",
   "execution_count": 3,
   "id": "29f35090-eb3d-464b-b46f-de30c4d42d4d",
   "metadata": {},
   "outputs": [],
   "source": [
    "df_train = pd.read_csv('train.csv')\n",
    "df_test = pd.read_csv('test.csv')"
   ]
  },
  {
   "cell_type": "code",
   "execution_count": 9,
   "id": "6eb46bde-31b5-485e-aa6f-1152c2e0aa08",
   "metadata": {},
   "outputs": [
    {
     "data": {
      "text/plain": [
       "(51134, 2)"
      ]
     },
     "execution_count": 9,
     "metadata": {},
     "output_type": "execute_result"
    }
   ],
   "source": [
    "df_train.shape"
   ]
  },
  {
   "cell_type": "code",
   "execution_count": 10,
   "id": "b51c1772-c943-4de8-b17c-b60c844eb107",
   "metadata": {},
   "outputs": [
    {
     "data": {
      "text/plain": [
       "(25580, 1)"
      ]
     },
     "execution_count": 10,
     "metadata": {},
     "output_type": "execute_result"
    }
   ],
   "source": [
    "df_test.shape"
   ]
  },
  {
   "cell_type": "code",
   "execution_count": 93,
   "id": "b46b7d4b-785e-4187-b2bc-6c620c7b8cf1",
   "metadata": {},
   "outputs": [
    {
     "name": "stderr",
     "output_type": "stream",
     "text": [
      "100%|███████████████████████████████████████████████████████████████████████████████████████████████████████████████████████████| 76714/76714 [01:18<00:00, 976.76it/s]\n"
     ]
    }
   ],
   "source": [
    "track_idx2embeds = {}\n",
    "for fn in tqdm(glob('track_embeddings/*')):\n",
    "    track_idx = int(fn.split('/')[1].split('.')[0])\n",
    "    embeds = np.load(fn)\n",
    "    track_idx2embeds[track_idx] = np.array(embeds)"
   ]
  },
  {
   "cell_type": "code",
   "execution_count": 95,
   "id": "d624c918-a9bc-4c24-8c27-aa06649b4d3e",
   "metadata": {},
   "outputs": [
    {
     "data": {
      "text/plain": [
       "array([[ 0.45148772,  0.76740855,  1.3221693 , ...,  1.5691732 ,\n",
       "         1.1770165 ,  0.5565597 ],\n",
       "       [ 0.30100685,  0.79274833,  1.1078403 , ...,  0.8639254 ,\n",
       "         0.968358  ,  0.28113842],\n",
       "       [-0.03283544,  0.9865178 ,  1.2763743 , ...,  1.3526566 ,\n",
       "         1.1101085 ,  0.7033231 ],\n",
       "       ...,\n",
       "       [ 0.23617499,  0.67322105,  1.0676353 , ...,  1.0679574 ,\n",
       "         0.8110492 ,  0.64638203],\n",
       "       [ 0.06359969,  0.19562058,  0.21925768, ...,  0.509882  ,\n",
       "         0.1549287 ,  0.14764403],\n",
       "       [ 1.3971076 ,  1.784399  ,  2.1582959 , ...,  2.2253149 ,\n",
       "         2.3128386 ,  2.2868373 ]], dtype=float32)"
      ]
     },
     "execution_count": 95,
     "metadata": {},
     "output_type": "execute_result"
    }
   ],
   "source": [
    "track_idx2embeds[531]"
   ]
  },
  {
   "cell_type": "code",
   "execution_count": 171,
   "id": "8d1b5cae-60ae-4584-a6bb-4f6b833929aa",
   "metadata": {},
   "outputs": [],
   "source": [
    "class TaggingDataset(Dataset):\n",
    "    def __init__(self, df, testing=False):\n",
    "        self.df = df\n",
    "        self.testing = testing\n",
    "        \n",
    "    def __len__(self):\n",
    "        return self.df.shape[0]\n",
    "\n",
    "    def __getitem__(self, idx):\n",
    "        row = self.df.iloc[idx]\n",
    "        track_idx = row.track\n",
    "        embeds = track_idx2embeds[track_idx]\n",
    "        if self.testing:\n",
    "            return track_idx, embeds\n",
    "        tags = [int(x) for x in row.tags.split(',')]\n",
    "        target = np.zeros(NUM_TAGS)\n",
    "        target[tags] = 1\n",
    "        return track_idx, embeds, target\n"
   ]
  },
  {
   "cell_type": "code",
   "execution_count": 172,
   "id": "ca9ac5cf-a481-4918-bbeb-ecf077c681ed",
   "metadata": {},
   "outputs": [],
   "source": [
    "train_dataset = TaggingDataset(df_train)\n",
    "test_dataset = TaggingDataset(df_test, True)"
   ]
  },
  {
   "cell_type": "code",
   "execution_count": 173,
   "id": "31c659b7-ee4b-44da-a715-b7abced07279",
   "metadata": {},
   "outputs": [],
   "source": [
    "class Network(nn.Module):\n",
    "    def __init__(self, num_classes = NUM_TAGS, input_dim = 768, hidden_dim = 512):\n",
    "        super().__init__()\n",
    "        self.num_classes = num_classes\n",
    "        self.bn = nn.LayerNorm(hidden_dim)\n",
    "        self.projector =  nn.Linear(input_dim, hidden_dim)\n",
    "        self.lin = nn.Sequential(\n",
    "            nn.Linear(hidden_dim, hidden_dim),\n",
    "            nn.ReLU(),\n",
    "            nn.Linear(hidden_dim, hidden_dim),\n",
    "            nn.LayerNorm(hidden_dim)\n",
    "        )\n",
    "        self.fc = nn.Linear(hidden_dim, num_classes)\n",
    "        \n",
    "\n",
    "    def forward(self, embeds):\n",
    "        x = [self.projector(x) for x in embeds]\n",
    "        x = [v.mean(0).unsqueeze(0) for v in x]\n",
    "        x = self.bn(torch.cat(x, dim = 0))\n",
    "        x = self.lin(x)\n",
    "        outs = self.fc(x)\n",
    "        return outs"
   ]
  },
  {
   "cell_type": "code",
   "execution_count": 174,
   "id": "3c1123a2-5a3f-4f18-9731-747e1641f074",
   "metadata": {},
   "outputs": [],
   "source": [
    "class Network(nn.Module):\n",
    "    def __init__(self, num_classes = NUM_TAGS, input_dim = 768, hidden_dim = 256):\n",
    "        super().__init__()\n",
    "        self.rnn = nn.LSTM(input_dim, hidden_dim, num_layers=1, batch_first=True)\n",
    "        self.fc = nn.Linear(hidden_dim, num_classes)\n",
    "\n",
    "    def forward(self, embeds):\n",
    "        rnn_output, (hn, cn) = self.rnn(embeds)\n",
    "        outs = self.fc(hn[0, :, :])\n",
    "        return outs"
   ]
  },
  {
   "cell_type": "code",
   "execution_count": null,
   "id": "dd91c211-1b5b-4580-9d5d-a16708ca1164",
   "metadata": {},
   "outputs": [],
   "source": [
    "class Network(nn.Module):\n",
    "    def __init__(self, num_classes = NUM_TAGS, input_dim = 768, hidden_dim = 256):\n",
    "        super().__init__()\n",
    "        self.rnn = nn.LSTM(input_dim, hidden_dim, num_layers=1, batch_first=True)\n",
    "        self.fc = nn.Linear(hidden_dim, num_classes)\n",
    "\n",
    "    def forward(self, embeds):\n",
    "        rnn_output, (hn, cn) = self.rnn(embeds)\n",
    "        outs = self.fc(hn[0, :, :])\n",
    "        return outs"
   ]
  },
  {
   "cell_type": "code",
   "execution_count": 175,
   "id": "c70bf034-7966-4f44-9f2e-dcaf0f8a8184",
   "metadata": {},
   "outputs": [],
   "source": [
    "def train_epoch(model, loader, criterion, optimizer):\n",
    "    model.train()\n",
    "    running_loss = None\n",
    "    alpha = 0.8\n",
    "    for iteration, data in enumerate(loader):\n",
    "        optimizer.zero_grad()\n",
    "        track_idxs, embeds, target = data\n",
    "        embeds = pad_sequence([x.to(DEVICE) for x in embeds], batch_first=True)\n",
    "        target = target.to(DEVICE)\n",
    "        pred_logits = model(embeds)\n",
    "        pred_probs = torch.sigmoid(pred_logits)\n",
    "        ce_loss = criterion(pred_logits, target)\n",
    "        ce_loss.backward()\n",
    "        optimizer.step()\n",
    "        \n",
    "        if running_loss is None:\n",
    "            running_loss = ce_loss.item()\n",
    "        else:\n",
    "            running_loss = alpha * ce_loss.item() + (1 - alpha) * ce_loss.item()\n",
    "        if iteration % 100 == 0:\n",
    "            print('   {} batch {} loss {}'.format(\n",
    "                datetime.now(), iteration + 1, running_loss\n",
    "            ))"
   ]
  },
  {
   "cell_type": "code",
   "execution_count": 176,
   "id": "2e624b0b-8daf-4702-a5de-c667fcd53121",
   "metadata": {},
   "outputs": [],
   "source": [
    "def predict(model, loader):\n",
    "    model.eval()\n",
    "    track_idxs = []\n",
    "    predictions = []\n",
    "    with torch.no_grad():\n",
    "        for data in loader:\n",
    "            track_idx, embeds = data\n",
    "            embeds =  pad_sequence([x.to(DEVICE) for x in embeds], batch_first=True)\n",
    "            pred_logits = model(embeds)\n",
    "            pred_probs = torch.sigmoid(pred_logits)\n",
    "            predictions.append(pred_probs.cpu().numpy())\n",
    "            track_idxs.append(track_idx.numpy())\n",
    "    predictions = np.vstack(predictions)\n",
    "    track_idxs = np.vstack(track_idxs).ravel()\n",
    "    return track_idxs, predictions\n",
    "            "
   ]
  },
  {
   "cell_type": "code",
   "execution_count": 177,
   "id": "e4decde5-005a-4820-804c-cf4d110c799e",
   "metadata": {},
   "outputs": [],
   "source": [
    "def collate_fn(b):\n",
    "    track_idxs = torch.from_numpy(np.vstack([x[0] for x in b]))\n",
    "    embeds = [torch.from_numpy(x[1]) for x in b]\n",
    "    targets = torch.from_numpy(np.vstack([x[2] for x in b]))\n",
    "    return track_idxs, embeds, targets\n",
    "\n",
    "def collate_fn_test(b):\n",
    "    track_idxs = torch.from_numpy(np.vstack([x[0] for x in b]))\n",
    "    embeds = [torch.from_numpy(x[1]) for x in b]\n",
    "    return track_idxs, embeds"
   ]
  },
  {
   "cell_type": "code",
   "execution_count": 178,
   "id": "62124a85-3bcc-4eb8-a0d7-931c8685d1b3",
   "metadata": {},
   "outputs": [],
   "source": [
    "train_dataloader = DataLoader(train_dataset, batch_size=64, shuffle=True, collate_fn=collate_fn)\n",
    "test_dataloader = DataLoader(test_dataset, batch_size=64, shuffle=False, collate_fn=collate_fn_test)"
   ]
  },
  {
   "cell_type": "code",
   "execution_count": 179,
   "id": "448ff0ee-2a61-4761-8d54-8b555bca7a09",
   "metadata": {
    "tags": []
   },
   "outputs": [
    {
     "name": "stderr",
     "output_type": "stream",
     "text": [
      "  0%|                                                                                                                                            | 0/5 [00:00<?, ?it/s]"
     ]
    },
    {
     "name": "stdout",
     "output_type": "stream",
     "text": [
      "   2023-10-29 23:25:21.081177 batch 1 loss 22.37625127285719\n",
      "   2023-10-29 23:26:33.107934 batch 101 loss 18.489122908562422\n",
      "   2023-10-29 23:27:21.331202 batch 201 loss 18.69697166979313\n",
      "   2023-10-29 23:28:09.800322 batch 301 loss 20.655828643590212\n",
      "   2023-10-29 23:29:01.405622 batch 401 loss 18.544672245159745\n",
      "   2023-10-29 23:29:53.608091 batch 501 loss 19.37050810456276\n",
      "   2023-10-29 23:30:49.323122 batch 601 loss 19.723336935043335\n",
      "   2023-10-29 23:31:41.050994 batch 701 loss 17.52207120321691\n"
     ]
    },
    {
     "name": "stderr",
     "output_type": "stream",
     "text": [
      " 20%|██████████████████████████▏                                                                                                        | 1/5 [07:12<28:51, 432.97s/it]"
     ]
    },
    {
     "name": "stdout",
     "output_type": "stream",
     "text": [
      "   2023-10-29 23:32:34.084487 batch 1 loss 17.41731971502304\n",
      "   2023-10-29 23:33:18.713145 batch 101 loss 19.449612522497773\n",
      "   2023-10-29 23:34:03.521985 batch 201 loss 17.777461072430015\n",
      "   2023-10-29 23:34:54.615307 batch 301 loss 21.173745607957244\n",
      "   2023-10-29 23:35:47.964047 batch 401 loss 18.782363824546337\n",
      "   2023-10-29 23:36:38.698915 batch 501 loss 16.86319096572697\n",
      "   2023-10-29 23:37:28.118176 batch 601 loss 17.429485904052854\n",
      "   2023-10-29 23:38:11.628434 batch 701 loss 16.10832716524601\n"
     ]
    },
    {
     "name": "stderr",
     "output_type": "stream",
     "text": [
      " 40%|████████████████████████████████████████████████████▍                                                                              | 2/5 [13:38<20:14, 404.83s/it]"
     ]
    },
    {
     "name": "stdout",
     "output_type": "stream",
     "text": [
      "   2023-10-29 23:38:59.230093 batch 1 loss 16.625599475577474\n",
      "   2023-10-29 23:39:45.756129 batch 101 loss 16.385829858481884\n",
      "   2023-10-29 23:40:29.041722 batch 201 loss 16.623455258086324\n",
      "   2023-10-29 23:41:09.330977 batch 301 loss 17.42536965571344\n",
      "   2023-10-29 23:41:53.901299 batch 401 loss 14.661055436357856\n",
      "   2023-10-29 23:42:37.745581 batch 501 loss 18.29888349212706\n",
      "   2023-10-29 23:43:21.853436 batch 601 loss 16.956267001107335\n",
      "   2023-10-29 23:44:07.052272 batch 701 loss 17.286550596356392\n"
     ]
    },
    {
     "name": "stderr",
     "output_type": "stream",
     "text": [
      " 60%|██████████████████████████████████████████████████████████████████████████████▌                                                    | 3/5 [19:29<12:41, 380.64s/it]"
     ]
    },
    {
     "name": "stdout",
     "output_type": "stream",
     "text": [
      "   2023-10-29 23:44:50.947111 batch 1 loss 15.718635438010097\n",
      "   2023-10-29 23:45:36.313228 batch 101 loss 15.25408748909831\n",
      "   2023-10-29 23:46:16.877621 batch 201 loss 18.041512947529554\n",
      "   2023-10-29 23:46:57.267487 batch 301 loss 15.738254209980369\n",
      "   2023-10-29 23:47:38.131298 batch 401 loss 18.937168275937438\n",
      "   2023-10-29 23:48:23.130824 batch 501 loss 16.4217742215842\n",
      "   2023-10-29 23:49:09.566672 batch 601 loss 17.30804492533207\n",
      "   2023-10-29 23:49:57.144972 batch 701 loss 17.25799271836877\n"
     ]
    },
    {
     "name": "stderr",
     "output_type": "stream",
     "text": [
      " 80%|████████████████████████████████████████████████████████████████████████████████████████████████████████▊                          | 4/5 [25:18<06:08, 368.00s/it]"
     ]
    },
    {
     "name": "stdout",
     "output_type": "stream",
     "text": [
      "   2023-10-29 23:50:39.481890 batch 1 loss 14.801182946190238\n",
      "   2023-10-29 23:51:21.254439 batch 101 loss 16.532756632193923\n",
      "   2023-10-29 23:51:57.173591 batch 201 loss 14.760481188073754\n",
      "   2023-10-29 23:52:39.710681 batch 301 loss 15.299261562526226\n",
      "   2023-10-29 23:53:23.430927 batch 401 loss 15.52678732573986\n",
      "   2023-10-29 23:54:08.262721 batch 501 loss 15.34805710054934\n",
      "   2023-10-29 23:54:50.704279 batch 601 loss 13.333010986447334\n",
      "   2023-10-29 23:55:34.232805 batch 701 loss 15.371110832318664\n"
     ]
    },
    {
     "name": "stderr",
     "output_type": "stream",
     "text": [
      "100%|███████████████████████████████████████████████████████████████████████████████████████████████████████████████████████████████████| 5/5 [30:53<00:00, 370.61s/it]\n"
     ]
    }
   ],
   "source": [
    "model = Network()\n",
    "criterion = nn.CrossEntropyLoss()\n",
    "\n",
    "epochs = 5\n",
    "model = model.to(DEVICE)\n",
    "criterion = criterion.to(DEVICE)\n",
    "optimizer = torch.optim.Adam(model.parameters(), lr=3e-4)\n",
    "\n",
    "for epoch in tqdm(range(epochs)):\n",
    "    train_epoch(model, train_dataloader, criterion, optimizer)\n"
   ]
  },
  {
   "cell_type": "code",
   "execution_count": 180,
   "id": "7a65faa1-76ff-4329-aadf-65594c8f577e",
   "metadata": {},
   "outputs": [],
   "source": [
    "track_idxs, predictions = predict(model, test_dataloader)"
   ]
  },
  {
   "cell_type": "code",
   "execution_count": 181,
   "id": "70f38f54-5bdc-4b24-b711-83aa87f1f11f",
   "metadata": {},
   "outputs": [],
   "source": [
    "predictions_df = pd.DataFrame([\n",
    "    {'track': track, 'prediction': ','.join([str(p) for p in probs])}\n",
    "    for track, probs in zip(track_idxs, predictions)\n",
    "])"
   ]
  },
  {
   "cell_type": "code",
   "execution_count": 182,
   "id": "f9b2deed-d587-4500-bf98-ff0276cbae70",
   "metadata": {},
   "outputs": [
    {
     "data": {
      "text/html": [
       "<div>\n",
       "<style scoped>\n",
       "    .dataframe tbody tr th:only-of-type {\n",
       "        vertical-align: middle;\n",
       "    }\n",
       "\n",
       "    .dataframe tbody tr th {\n",
       "        vertical-align: top;\n",
       "    }\n",
       "\n",
       "    .dataframe thead th {\n",
       "        text-align: right;\n",
       "    }\n",
       "</style>\n",
       "<table border=\"1\" class=\"dataframe\">\n",
       "  <thead>\n",
       "    <tr style=\"text-align: right;\">\n",
       "      <th></th>\n",
       "      <th>track</th>\n",
       "      <th>prediction</th>\n",
       "    </tr>\n",
       "  </thead>\n",
       "  <tbody>\n",
       "    <tr>\n",
       "      <th>0</th>\n",
       "      <td>17730</td>\n",
       "      <td>0.9614,0.9692255,0.9273112,0.95447135,0.68378,...</td>\n",
       "    </tr>\n",
       "    <tr>\n",
       "      <th>1</th>\n",
       "      <td>32460</td>\n",
       "      <td>0.9363525,0.97831887,0.91003394,0.9414933,0.58...</td>\n",
       "    </tr>\n",
       "    <tr>\n",
       "      <th>2</th>\n",
       "      <td>11288</td>\n",
       "      <td>0.971713,0.9706743,0.9733383,0.9584738,0.64071...</td>\n",
       "    </tr>\n",
       "    <tr>\n",
       "      <th>3</th>\n",
       "      <td>18523</td>\n",
       "      <td>0.97833043,0.9606864,0.9839956,0.9512931,0.805...</td>\n",
       "    </tr>\n",
       "    <tr>\n",
       "      <th>4</th>\n",
       "      <td>71342</td>\n",
       "      <td>0.96631485,0.9280631,0.9739908,0.99105024,0.60...</td>\n",
       "    </tr>\n",
       "  </tbody>\n",
       "</table>\n",
       "</div>"
      ],
      "text/plain": [
       "   track                                         prediction\n",
       "0  17730  0.9614,0.9692255,0.9273112,0.95447135,0.68378,...\n",
       "1  32460  0.9363525,0.97831887,0.91003394,0.9414933,0.58...\n",
       "2  11288  0.971713,0.9706743,0.9733383,0.9584738,0.64071...\n",
       "3  18523  0.97833043,0.9606864,0.9839956,0.9512931,0.805...\n",
       "4  71342  0.96631485,0.9280631,0.9739908,0.99105024,0.60..."
      ]
     },
     "execution_count": 182,
     "metadata": {},
     "output_type": "execute_result"
    }
   ],
   "source": [
    "predictions_df.head()"
   ]
  },
  {
   "cell_type": "code",
   "execution_count": null,
   "id": "529f8d2e-471a-4723-ad9b-6bbfa788a026",
   "metadata": {},
   "outputs": [],
   "source": []
  },
  {
   "cell_type": "code",
   "execution_count": 183,
   "id": "810b0804-c39b-4cb3-9a00-fb443a8aa734",
   "metadata": {},
   "outputs": [],
   "source": [
    "predictions_df.to_csv('prediction_lstm.csv', index=False)"
   ]
  },
  {
   "cell_type": "code",
   "execution_count": null,
   "id": "45b24173-fe43-4203-a9af-71801f8c576d",
   "metadata": {},
   "outputs": [],
   "source": []
  },
  {
   "cell_type": "code",
   "execution_count": null,
   "id": "4daf63c5-45b4-4cb8-99f1-534fc8203caa",
   "metadata": {},
   "outputs": [],
   "source": []
  }
 ],
 "metadata": {
  "kernelspec": {
   "display_name": "Python 3 (ipykernel)",
   "language": "python",
   "name": "python3"
  },
  "language_info": {
   "codemirror_mode": {
    "name": "ipython",
    "version": 3
   },
   "file_extension": ".py",
   "mimetype": "text/x-python",
   "name": "python",
   "nbconvert_exporter": "python",
   "pygments_lexer": "ipython3",
   "version": "3.10.10"
  }
 },
 "nbformat": 4,
 "nbformat_minor": 5
}
