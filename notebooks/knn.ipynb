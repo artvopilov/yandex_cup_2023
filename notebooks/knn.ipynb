{
 "cells": [
  {
   "cell_type": "code",
   "execution_count": 1,
   "id": "762c2cb7-9ea5-4f0b-a0c3-2f4942dd5434",
   "metadata": {},
   "outputs": [],
   "source": [
    "import os\n",
    "\n",
    "import numpy as np\n",
    "import pandas as pd\n",
    "\n",
    "from tqdm.auto import tqdm\n",
    "from itertools import chain\n",
    "\n",
    "import hnswlib"
   ]
  },
  {
   "cell_type": "code",
   "execution_count": 2,
   "id": "3e4fac72-9352-4180-aa6e-ce5a5bd5c95d",
   "metadata": {},
   "outputs": [],
   "source": [
    "BASE_DIR = \"/Users/artemvopilov/Programming/yandex_cup_2023\""
   ]
  },
  {
   "cell_type": "code",
   "execution_count": 32,
   "id": "d7cc0761-e3ec-4591-8a84-18fcee71fb15",
   "metadata": {},
   "outputs": [],
   "source": [
    "DATA_DIR = f\"{BASE_DIR}/data\"\n",
    "\n",
    "TRAIN_DF_PATH = f\"{DATA_DIR}/train.csv\"\n",
    "TEST_DF_PATH = f\"{DATA_DIR}/test.csv\"\n",
    "\n",
    "NORMED_EMBEDDINGS_DIR = f\"{BASE_DIR}/normed_embeddings\"\n",
    "PCA_EMBEDDINGS_DIR = f\"{BASE_DIR}/pca_embeddings\"\n",
    "VAE_EMBEDDINGS_DIR = f\"{BASE_DIR}/vae_embeddings\"\n",
    "NORMED_LSTM_EMBEDDINGS_DIR = f\"{BASE_DIR}/normed_lstm_embeddings\""
   ]
  },
  {
   "cell_type": "code",
   "execution_count": 38,
   "id": "8c9bfb19-d02a-4057-aa6b-ac484021c53b",
   "metadata": {},
   "outputs": [],
   "source": [
    "TAGS_N = 256\n",
    "\n",
    "DIM = 64"
   ]
  },
  {
   "cell_type": "markdown",
   "id": "9fc8efba-1e92-4e7b-a7da-b7bc858fb500",
   "metadata": {},
   "source": [
    "### Read data"
   ]
  },
  {
   "cell_type": "code",
   "execution_count": 34,
   "id": "47a0b95c-8041-4d9c-9124-61d50878cee2",
   "metadata": {},
   "outputs": [],
   "source": [
    "train_df = pd.read_csv(TRAIN_DF_PATH)\n",
    "test_df = pd.read_csv(TEST_DF_PATH)"
   ]
  },
  {
   "cell_type": "code",
   "execution_count": 35,
   "id": "33bff9b4-d863-4f14-9660-d8da8b1597df",
   "metadata": {},
   "outputs": [],
   "source": [
    "train_track_ids = set(train_df[\"track\"].unique())\n",
    "test_track_ids = set(test_df[\"track\"].unique())"
   ]
  },
  {
   "cell_type": "code",
   "execution_count": 36,
   "id": "ac7cde2a-227b-498b-8541-a22308b75d9f",
   "metadata": {},
   "outputs": [
    {
     "data": {
      "application/vnd.jupyter.widget-view+json": {
       "model_id": "2b3a65cd8dac410db1a0ec1a2b3278c4",
       "version_major": 2,
       "version_minor": 0
      },
      "text/plain": [
       "0it [00:00, ?it/s]"
      ]
     },
     "metadata": {},
     "output_type": "display_data"
    }
   ],
   "source": [
    "train_track_id_to_tags = {}\n",
    "for _, row in tqdm(train_df.iterrows()):\n",
    "    track_id = row[\"track\"]\n",
    "    tags = list(map(int, row[\"tags\"].split(\",\")))\n",
    "    train_track_id_to_tags[track_id] = tags"
   ]
  },
  {
   "cell_type": "markdown",
   "id": "2729aedc-06c6-4486-a104-682fd8c1962c",
   "metadata": {},
   "source": [
    "### Read embeddings"
   ]
  },
  {
   "cell_type": "code",
   "execution_count": 37,
   "id": "d09ff2a5-b41d-4332-83ea-c4d138991c57",
   "metadata": {},
   "outputs": [
    {
     "data": {
      "application/vnd.jupyter.widget-view+json": {
       "model_id": "b918619a48654a15bdede37b4af54d73",
       "version_major": 2,
       "version_minor": 0
      },
      "text/plain": [
       "  0%|          | 0/76714 [00:00<?, ?it/s]"
      ]
     },
     "metadata": {},
     "output_type": "display_data"
    }
   ],
   "source": [
    "track_id_to_embeddings = {}\n",
    "for fn in tqdm(os.listdir(VAE_EMBEDDINGS_DIR)):\n",
    "    fp = f\"{VAE_EMBEDDINGS_DIR}/{fn}\"\n",
    "\n",
    "    track_id = fn.split('.')[0]\n",
    "    embeddings = np.load(fp)\n",
    "    track_id_to_embeddings[track_id] = embeddings"
   ]
  },
  {
   "cell_type": "code",
   "execution_count": 39,
   "id": "963c1e29-322f-4f04-a45e-b4dcb12da89f",
   "metadata": {},
   "outputs": [
    {
     "data": {
      "text/plain": [
       "76714"
      ]
     },
     "execution_count": 39,
     "metadata": {},
     "output_type": "execute_result"
    }
   ],
   "source": [
    "len(track_id_to_embeddings)"
   ]
  },
  {
   "cell_type": "code",
   "execution_count": 40,
   "id": "a8309f31-d12e-4ba9-bb97-98cf5bcc1e10",
   "metadata": {},
   "outputs": [
    {
     "data": {
      "application/vnd.jupyter.widget-view+json": {
       "model_id": "2e8bdddc6cdf4a53b361262c5b72a7c6",
       "version_major": 2,
       "version_minor": 0
      },
      "text/plain": [
       "  0%|          | 0/76714 [00:00<?, ?it/s]"
      ]
     },
     "metadata": {},
     "output_type": "display_data"
    }
   ],
   "source": [
    "track_ids = []\n",
    "embeddings = []\n",
    "for ti, embeds in tqdm(track_id_to_embeddings.items()):\n",
    "    if int(ti) not in train_track_ids:\n",
    "        continue\n",
    "    track_ids.append(ti)\n",
    "    embeddings.append(embeds[-1])"
   ]
  },
  {
   "cell_type": "code",
   "execution_count": 41,
   "id": "1f814580-03ea-4504-9ba1-bc15cc58a5bd",
   "metadata": {},
   "outputs": [
    {
     "data": {
      "text/plain": [
       "51134"
      ]
     },
     "execution_count": 41,
     "metadata": {},
     "output_type": "execute_result"
    }
   ],
   "source": [
    "len(embeddings)"
   ]
  },
  {
   "cell_type": "markdown",
   "id": "a62bc074-bbe8-4578-a301-b71125957b96",
   "metadata": {},
   "source": [
    "### KNN index"
   ]
  },
  {
   "cell_type": "code",
   "execution_count": 42,
   "id": "33356921-4dff-4d12-bcd8-a208c0e4075d",
   "metadata": {},
   "outputs": [],
   "source": [
    "knn_index = hnswlib.Index(space='cosine', dim=DIM)"
   ]
  },
  {
   "cell_type": "code",
   "execution_count": 43,
   "id": "8c267a3b-aa2e-4d2b-a760-7495dc87a963",
   "metadata": {},
   "outputs": [],
   "source": [
    "knn_index.init_index(len(embeddings))"
   ]
  },
  {
   "cell_type": "code",
   "execution_count": 44,
   "id": "4aa51c41-3446-41a7-b6a5-ab497c1fcbe5",
   "metadata": {},
   "outputs": [],
   "source": [
    "knn_index.add_items(embeddings)"
   ]
  },
  {
   "cell_type": "markdown",
   "id": "06227f6d-b19f-413b-a922-048487866498",
   "metadata": {},
   "source": [
    "### Predict"
   ]
  },
  {
   "cell_type": "code",
   "execution_count": 45,
   "id": "33797aa1-d834-4651-aa36-24192ca808b3",
   "metadata": {},
   "outputs": [
    {
     "data": {
      "application/vnd.jupyter.widget-view+json": {
       "model_id": "c9671f606f5642b2af31dff03d9d38fc",
       "version_major": 2,
       "version_minor": 0
      },
      "text/plain": [
       "  0%|          | 0/76714 [00:00<?, ?it/s]"
      ]
     },
     "metadata": {},
     "output_type": "display_data"
    }
   ],
   "source": [
    "all_track_ids = []\n",
    "all_embeddings = []\n",
    "for ti, embeds in tqdm(track_id_to_embeddings.items()):\n",
    "    all_track_ids.append(ti)\n",
    "    # all_embeddings.append(np.mean(embeds, axis=0))\n",
    "    all_embeddings.append(embeds[-1])"
   ]
  },
  {
   "cell_type": "code",
   "execution_count": 46,
   "id": "5b002cf7-c654-473c-8c84-988ef8442576",
   "metadata": {},
   "outputs": [
    {
     "data": {
      "application/vnd.jupyter.widget-view+json": {
       "model_id": "dc6aded1474a4407b7fbaeb16d823727",
       "version_major": 2,
       "version_minor": 0
      },
      "text/plain": [
       "0it [00:00, ?it/s]"
      ]
     },
     "metadata": {},
     "output_type": "display_data"
    },
    {
     "name": "stderr",
     "output_type": "stream",
     "text": [
      "/var/folders/zx/qc06bh8n1sl80x1x3xp2j5qw0000gn/T/ipykernel_28889/2425898566.py:20: RuntimeWarning: divide by zero encountered in divide\n",
      "  scores += target * d / distances_sum\n",
      "/var/folders/zx/qc06bh8n1sl80x1x3xp2j5qw0000gn/T/ipykernel_28889/2425898566.py:20: RuntimeWarning: invalid value encountered in divide\n",
      "  scores += target * d / distances_sum\n"
     ]
    }
   ],
   "source": [
    "track_id_to_scores = {}\n",
    "for ti, embed in tqdm(zip(all_track_ids, all_embeddings)):\n",
    "    labels, distances = knn_index.knn_query(embed, k=21)\n",
    "\n",
    "    if ti in train_track_ids:\n",
    "        labels = labels[0][1:]\n",
    "        distances = distances[0][1:]\n",
    "    else:\n",
    "        labels = labels[0][:-1]\n",
    "        distances = distances[0][:-1]\n",
    "\n",
    "    distances_sum = np.sum(distances)\n",
    "    scores = np.zeros(TAGS_N)\n",
    "    for l, d in zip(labels, distances):\n",
    "        track_id = track_ids[l]\n",
    "        tags = train_track_id_to_tags[int(track_id)]\n",
    "\n",
    "        target = np.zeros(TAGS_N)\n",
    "        target[tags] = 1\n",
    "        scores += target * d / distances_sum\n",
    "    track_id_to_scores[ti] = scores"
   ]
  },
  {
   "cell_type": "markdown",
   "id": "524f9ae1-9b2c-4431-b676-da8946dc63a3",
   "metadata": {},
   "source": [
    "### Save scores "
   ]
  },
  {
   "cell_type": "code",
   "execution_count": 47,
   "id": "c417e861-5cce-4ad7-9e40-e2dda3d27841",
   "metadata": {},
   "outputs": [],
   "source": [
    "predictions_df = pd.DataFrame([\n",
    "    {'track': track, 'prediction': ','.join([str(p) for p in probs])}\n",
    "    for track, probs in track_id_to_scores.items()\n",
    "])"
   ]
  },
  {
   "cell_type": "code",
   "execution_count": 48,
   "id": "4ea8d4ba-01c7-4687-b4cb-3b0e6d849e1c",
   "metadata": {},
   "outputs": [
    {
     "data": {
      "text/html": [
       "<div>\n",
       "<style scoped>\n",
       "    .dataframe tbody tr th:only-of-type {\n",
       "        vertical-align: middle;\n",
       "    }\n",
       "\n",
       "    .dataframe tbody tr th {\n",
       "        vertical-align: top;\n",
       "    }\n",
       "\n",
       "    .dataframe thead th {\n",
       "        text-align: right;\n",
       "    }\n",
       "</style>\n",
       "<table border=\"1\" class=\"dataframe\">\n",
       "  <thead>\n",
       "    <tr style=\"text-align: right;\">\n",
       "      <th></th>\n",
       "      <th>track</th>\n",
       "      <th>prediction</th>\n",
       "    </tr>\n",
       "  </thead>\n",
       "  <tbody>\n",
       "    <tr>\n",
       "      <th>0</th>\n",
       "      <td>531</td>\n",
       "      <td>0.8617021276595747,0.2606382978723404,0.132978...</td>\n",
       "    </tr>\n",
       "    <tr>\n",
       "      <th>1</th>\n",
       "      <td>33632</td>\n",
       "      <td>0.25,0.5,0.25,0.25,0.0,0.25,0.0,0.0,0.0,0.0,0....</td>\n",
       "    </tr>\n",
       "    <tr>\n",
       "      <th>2</th>\n",
       "      <td>75667</td>\n",
       "      <td>0.3684979738258155,0.43679000863615225,0.04364...</td>\n",
       "    </tr>\n",
       "    <tr>\n",
       "      <th>3</th>\n",
       "      <td>65474</td>\n",
       "      <td>0.36363636363636365,0.2727272727272727,0.13636...</td>\n",
       "    </tr>\n",
       "    <tr>\n",
       "      <th>4</th>\n",
       "      <td>23421</td>\n",
       "      <td>0.3170028818443804,0.6671469740634005,0.097982...</td>\n",
       "    </tr>\n",
       "  </tbody>\n",
       "</table>\n",
       "</div>"
      ],
      "text/plain": [
       "   track                                         prediction\n",
       "0    531  0.8617021276595747,0.2606382978723404,0.132978...\n",
       "1  33632  0.25,0.5,0.25,0.25,0.0,0.25,0.0,0.0,0.0,0.0,0....\n",
       "2  75667  0.3684979738258155,0.43679000863615225,0.04364...\n",
       "3  65474  0.36363636363636365,0.2727272727272727,0.13636...\n",
       "4  23421  0.3170028818443804,0.6671469740634005,0.097982..."
      ]
     },
     "execution_count": 48,
     "metadata": {},
     "output_type": "execute_result"
    }
   ],
   "source": [
    "predictions_df.head()"
   ]
  },
  {
   "cell_type": "code",
   "execution_count": 49,
   "id": "3aa2a7ae-9b3a-4dc0-b6ae-c396e31a0ba3",
   "metadata": {},
   "outputs": [
    {
     "data": {
      "text/plain": [
       "(76714, 2)"
      ]
     },
     "execution_count": 49,
     "metadata": {},
     "output_type": "execute_result"
    }
   ],
   "source": [
    "predictions_df.shape"
   ]
  },
  {
   "cell_type": "code",
   "execution_count": 50,
   "id": "2d1984eb-bb56-429b-b17e-2b74859de1ce",
   "metadata": {},
   "outputs": [],
   "source": [
    "predictions_df.to_csv('prediction_knn_vae_last.csv', index=False)"
   ]
  },
  {
   "cell_type": "code",
   "execution_count": null,
   "id": "eceec51b-8a68-458b-8446-5d96dc110b7a",
   "metadata": {},
   "outputs": [],
   "source": []
  }
 ],
 "metadata": {
  "kernelspec": {
   "display_name": "Python 3 (ipykernel)",
   "language": "python",
   "name": "python3"
  },
  "language_info": {
   "codemirror_mode": {
    "name": "ipython",
    "version": 3
   },
   "file_extension": ".py",
   "mimetype": "text/x-python",
   "name": "python",
   "nbconvert_exporter": "python",
   "pygments_lexer": "ipython3",
   "version": "3.10.10"
  }
 },
 "nbformat": 4,
 "nbformat_minor": 5
}
