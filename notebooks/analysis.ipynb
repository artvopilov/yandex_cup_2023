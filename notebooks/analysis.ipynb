{
 "cells": [
  {
   "cell_type": "code",
   "execution_count": 34,
   "id": "0c9f03f6-afa0-413e-bec9-fc36d2e17860",
   "metadata": {},
   "outputs": [],
   "source": [
    "import pandas as pd\n",
    "import numpy as np\n",
    "import seaborn as sns\n",
    "\n",
    "from glob import glob\n",
    "from itertools import chain\n",
    "from collections import Counter"
   ]
  },
  {
   "cell_type": "code",
   "execution_count": 6,
   "id": "fd430aaf-d727-4478-ac3d-d1f9f48cd947",
   "metadata": {},
   "outputs": [],
   "source": [
    "BASE_DIR = \"/home/artem/yandex_cup_2023\""
   ]
  },
  {
   "cell_type": "code",
   "execution_count": 7,
   "id": "c94ac47e-c178-4a88-83df-65b0a7f18fb3",
   "metadata": {},
   "outputs": [],
   "source": [
    "DATA_DIR = f\"{BASE_DIR}/data\"\n",
    "EMBEDDINGS_DIR = f\"{BASE_DIR}/embeddings\""
   ]
  },
  {
   "cell_type": "code",
   "execution_count": 8,
   "id": "e614e1de-d9c7-432b-8deb-da8464aead43",
   "metadata": {},
   "outputs": [],
   "source": [
    "TRAIN_DF_PATH = f\"{DATA_DIR}/train.csv\"\n",
    "TEST_DF_PATH = f\"{DATA_DIR}/test.csv\""
   ]
  },
  {
   "cell_type": "code",
   "execution_count": 9,
   "id": "1c9ab51b-eb32-42df-a1bc-aa71f1ac435d",
   "metadata": {},
   "outputs": [],
   "source": [
    "train_df = pd.read_csv(TRAIN_DF_PATH)\n",
    "test_df = pd.read_csv(TEST_DF_PATH)"
   ]
  },
  {
   "cell_type": "code",
   "execution_count": 10,
   "id": "f5d7eb76-8276-422c-8a8f-3b45368a2de9",
   "metadata": {},
   "outputs": [
    {
     "data": {
      "text/html": [
       "<div>\n",
       "<style scoped>\n",
       "    .dataframe tbody tr th:only-of-type {\n",
       "        vertical-align: middle;\n",
       "    }\n",
       "\n",
       "    .dataframe tbody tr th {\n",
       "        vertical-align: top;\n",
       "    }\n",
       "\n",
       "    .dataframe thead th {\n",
       "        text-align: right;\n",
       "    }\n",
       "</style>\n",
       "<table border=\"1\" class=\"dataframe\">\n",
       "  <thead>\n",
       "    <tr style=\"text-align: right;\">\n",
       "      <th></th>\n",
       "      <th>track</th>\n",
       "      <th>tags</th>\n",
       "    </tr>\n",
       "  </thead>\n",
       "  <tbody>\n",
       "    <tr>\n",
       "      <th>0</th>\n",
       "      <td>49734</td>\n",
       "      <td>5,6,9,26,32,55,96</td>\n",
       "    </tr>\n",
       "    <tr>\n",
       "      <th>1</th>\n",
       "      <td>67845</td>\n",
       "      <td>6,9,28,39,145,155</td>\n",
       "    </tr>\n",
       "    <tr>\n",
       "      <th>2</th>\n",
       "      <td>25302</td>\n",
       "      <td>0,6,28,40,116,168</td>\n",
       "    </tr>\n",
       "    <tr>\n",
       "      <th>3</th>\n",
       "      <td>57796</td>\n",
       "      <td>28,186</td>\n",
       "    </tr>\n",
       "    <tr>\n",
       "      <th>4</th>\n",
       "      <td>13676</td>\n",
       "      <td>6,23,177</td>\n",
       "    </tr>\n",
       "  </tbody>\n",
       "</table>\n",
       "</div>"
      ],
      "text/plain": [
       "   track               tags\n",
       "0  49734  5,6,9,26,32,55,96\n",
       "1  67845  6,9,28,39,145,155\n",
       "2  25302  0,6,28,40,116,168\n",
       "3  57796             28,186\n",
       "4  13676           6,23,177"
      ]
     },
     "execution_count": 10,
     "metadata": {},
     "output_type": "execute_result"
    }
   ],
   "source": [
    "train_df.head()"
   ]
  },
  {
   "cell_type": "code",
   "execution_count": 12,
   "id": "46f81d0e-e8e9-4f5f-b419-4114e00cdd30",
   "metadata": {},
   "outputs": [
    {
     "data": {
      "text/plain": [
       "(51134, 2)"
      ]
     },
     "execution_count": 12,
     "metadata": {},
     "output_type": "execute_result"
    }
   ],
   "source": [
    "train_df.shape"
   ]
  },
  {
   "cell_type": "code",
   "execution_count": 13,
   "id": "0591e377-2e08-429e-b31b-658a16eccddc",
   "metadata": {},
   "outputs": [
    {
     "name": "stdout",
     "output_type": "stream",
     "text": [
      "<class 'pandas.core.frame.DataFrame'>\n",
      "RangeIndex: 51134 entries, 0 to 51133\n",
      "Data columns (total 2 columns):\n",
      " #   Column  Non-Null Count  Dtype \n",
      "---  ------  --------------  ----- \n",
      " 0   track   51134 non-null  int64 \n",
      " 1   tags    51134 non-null  object\n",
      "dtypes: int64(1), object(1)\n",
      "memory usage: 799.1+ KB\n"
     ]
    }
   ],
   "source": [
    "train_df.info(verbose=True, show_counts=True)"
   ]
  },
  {
   "cell_type": "code",
   "execution_count": 17,
   "id": "7f12a52b-7c79-4f71-9590-3a609d0de4bc",
   "metadata": {},
   "outputs": [
    {
     "data": {
      "text/plain": [
       "51134"
      ]
     },
     "execution_count": 17,
     "metadata": {},
     "output_type": "execute_result"
    }
   ],
   "source": [
    "train_df[\"track\"].nunique()"
   ]
  },
  {
   "cell_type": "code",
   "execution_count": 27,
   "id": "b8065456-86ea-4193-9c20-421c310ef027",
   "metadata": {},
   "outputs": [],
   "source": [
    "track_tags = train_df[\"tags\"].map(lambda t: list(map(int, t.split(\",\")))).values"
   ]
  },
  {
   "cell_type": "code",
   "execution_count": 28,
   "id": "ae732b4c-a112-4633-b66f-5407c4205392",
   "metadata": {},
   "outputs": [],
   "source": [
    "tags = list(chain.from_iterable(track_tags))"
   ]
  },
  {
   "cell_type": "code",
   "execution_count": 32,
   "id": "b8f96a10-e1c1-4072-aa51-ae5c62582aed",
   "metadata": {},
   "outputs": [],
   "source": [
    "tag_counts = Counter(tags)"
   ]
  },
  {
   "cell_type": "code",
   "execution_count": 36,
   "id": "1348dd5c-7211-4820-9a66-f12d7eaba965",
   "metadata": {},
   "outputs": [
    {
     "data": {
      "text/plain": [
       "256"
      ]
     },
     "execution_count": 36,
     "metadata": {},
     "output_type": "execute_result"
    }
   ],
   "source": [
    "len(tag_counts)"
   ]
  },
  {
   "cell_type": "code",
   "execution_count": 33,
   "id": "85238305-82aa-4550-b155-7369e9d01b40",
   "metadata": {},
   "outputs": [
    {
     "data": {
      "text/plain": [
       "Counter({0: 20095,\n",
       "         1: 18519,\n",
       "         2: 7139,\n",
       "         6: 6270,\n",
       "         5: 5217,\n",
       "         3: 4777,\n",
       "         9: 3905,\n",
       "         23: 3299,\n",
       "         12: 2815,\n",
       "         11: 2701,\n",
       "         15: 2312,\n",
       "         28: 2121,\n",
       "         35: 2031,\n",
       "         4: 1929,\n",
       "         17: 1895,\n",
       "         43: 1726,\n",
       "         13: 1664,\n",
       "         8: 1636,\n",
       "         7: 1631,\n",
       "         21: 1529,\n",
       "         10: 1518,\n",
       "         25: 1327,\n",
       "         18: 1325,\n",
       "         32: 1236,\n",
       "         31: 1188,\n",
       "         29: 1143,\n",
       "         19: 1141,\n",
       "         26: 1118,\n",
       "         47: 1117,\n",
       "         16: 1090,\n",
       "         14: 1044,\n",
       "         39: 1007,\n",
       "         24: 1001,\n",
       "         37: 980,\n",
       "         22: 971,\n",
       "         50: 944,\n",
       "         40: 926,\n",
       "         20: 922,\n",
       "         45: 893,\n",
       "         30: 873,\n",
       "         64: 866,\n",
       "         54: 850,\n",
       "         44: 827,\n",
       "         33: 814,\n",
       "         62: 770,\n",
       "         38: 766,\n",
       "         70: 756,\n",
       "         99: 748,\n",
       "         81: 742,\n",
       "         46: 731,\n",
       "         58: 709,\n",
       "         74: 698,\n",
       "         27: 682,\n",
       "         96: 681,\n",
       "         112: 658,\n",
       "         60: 649,\n",
       "         63: 647,\n",
       "         73: 645,\n",
       "         89: 640,\n",
       "         83: 635,\n",
       "         68: 634,\n",
       "         92: 624,\n",
       "         48: 613,\n",
       "         41: 611,\n",
       "         103: 605,\n",
       "         52: 603,\n",
       "         117: 596,\n",
       "         85: 594,\n",
       "         75: 594,\n",
       "         55: 592,\n",
       "         95: 585,\n",
       "         56: 580,\n",
       "         123: 578,\n",
       "         87: 578,\n",
       "         97: 574,\n",
       "         65: 572,\n",
       "         77: 569,\n",
       "         76: 569,\n",
       "         57: 568,\n",
       "         34: 560,\n",
       "         82: 534,\n",
       "         102: 533,\n",
       "         42: 532,\n",
       "         93: 531,\n",
       "         101: 529,\n",
       "         49: 529,\n",
       "         86: 528,\n",
       "         53: 527,\n",
       "         122: 525,\n",
       "         118: 517,\n",
       "         121: 516,\n",
       "         72: 510,\n",
       "         51: 507,\n",
       "         59: 506,\n",
       "         84: 501,\n",
       "         143: 494,\n",
       "         151: 493,\n",
       "         36: 490,\n",
       "         90: 488,\n",
       "         119: 486,\n",
       "         98: 484,\n",
       "         69: 483,\n",
       "         66: 480,\n",
       "         138: 471,\n",
       "         116: 470,\n",
       "         145: 467,\n",
       "         108: 463,\n",
       "         134: 462,\n",
       "         71: 449,\n",
       "         137: 448,\n",
       "         80: 446,\n",
       "         88: 446,\n",
       "         127: 446,\n",
       "         67: 444,\n",
       "         78: 441,\n",
       "         129: 431,\n",
       "         131: 415,\n",
       "         144: 415,\n",
       "         177: 413,\n",
       "         169: 411,\n",
       "         158: 407,\n",
       "         157: 406,\n",
       "         133: 400,\n",
       "         110: 399,\n",
       "         104: 397,\n",
       "         100: 396,\n",
       "         124: 395,\n",
       "         111: 394,\n",
       "         173: 393,\n",
       "         178: 392,\n",
       "         113: 391,\n",
       "         94: 390,\n",
       "         192: 389,\n",
       "         150: 386,\n",
       "         168: 385,\n",
       "         135: 385,\n",
       "         167: 381,\n",
       "         109: 380,\n",
       "         105: 377,\n",
       "         174: 376,\n",
       "         141: 374,\n",
       "         175: 373,\n",
       "         146: 372,\n",
       "         107: 363,\n",
       "         172: 362,\n",
       "         183: 360,\n",
       "         164: 359,\n",
       "         160: 359,\n",
       "         191: 356,\n",
       "         115: 356,\n",
       "         114: 355,\n",
       "         195: 352,\n",
       "         170: 351,\n",
       "         79: 350,\n",
       "         61: 349,\n",
       "         180: 343,\n",
       "         187: 341,\n",
       "         106: 340,\n",
       "         149: 339,\n",
       "         155: 338,\n",
       "         120: 336,\n",
       "         162: 333,\n",
       "         126: 333,\n",
       "         161: 332,\n",
       "         186: 330,\n",
       "         91: 330,\n",
       "         153: 330,\n",
       "         201: 327,\n",
       "         198: 326,\n",
       "         125: 326,\n",
       "         154: 324,\n",
       "         204: 321,\n",
       "         142: 319,\n",
       "         159: 318,\n",
       "         128: 317,\n",
       "         182: 317,\n",
       "         132: 315,\n",
       "         130: 311,\n",
       "         207: 311,\n",
       "         196: 309,\n",
       "         189: 308,\n",
       "         228: 307,\n",
       "         202: 296,\n",
       "         215: 294,\n",
       "         234: 294,\n",
       "         206: 294,\n",
       "         218: 293,\n",
       "         227: 293,\n",
       "         165: 291,\n",
       "         185: 290,\n",
       "         214: 289,\n",
       "         163: 288,\n",
       "         190: 288,\n",
       "         223: 285,\n",
       "         203: 283,\n",
       "         239: 282,\n",
       "         139: 282,\n",
       "         244: 281,\n",
       "         219: 280,\n",
       "         241: 279,\n",
       "         197: 278,\n",
       "         224: 274,\n",
       "         209: 273,\n",
       "         140: 273,\n",
       "         217: 272,\n",
       "         176: 271,\n",
       "         246: 270,\n",
       "         221: 269,\n",
       "         212: 267,\n",
       "         252: 265,\n",
       "         232: 265,\n",
       "         225: 263,\n",
       "         220: 263,\n",
       "         205: 263,\n",
       "         147: 262,\n",
       "         249: 262,\n",
       "         148: 260,\n",
       "         194: 255,\n",
       "         208: 255,\n",
       "         193: 255,\n",
       "         181: 254,\n",
       "         199: 254,\n",
       "         216: 253,\n",
       "         171: 253,\n",
       "         243: 252,\n",
       "         210: 252,\n",
       "         247: 251,\n",
       "         166: 250,\n",
       "         231: 249,\n",
       "         213: 249,\n",
       "         237: 248,\n",
       "         236: 247,\n",
       "         251: 247,\n",
       "         152: 245,\n",
       "         255: 243,\n",
       "         188: 242,\n",
       "         156: 241,\n",
       "         233: 240,\n",
       "         240: 238,\n",
       "         230: 237,\n",
       "         200: 236,\n",
       "         254: 235,\n",
       "         226: 234,\n",
       "         248: 230,\n",
       "         222: 227,\n",
       "         242: 227,\n",
       "         250: 226,\n",
       "         136: 226,\n",
       "         253: 225,\n",
       "         179: 225,\n",
       "         184: 222,\n",
       "         245: 222,\n",
       "         229: 215,\n",
       "         235: 213,\n",
       "         211: 209,\n",
       "         238: 208})"
      ]
     },
     "execution_count": 33,
     "metadata": {},
     "output_type": "execute_result"
    }
   ],
   "source": [
    "tag_counts"
   ]
  },
  {
   "cell_type": "code",
   "execution_count": 35,
   "id": "6ee575c7-3c63-4500-8b56-c7c7552dfa2f",
   "metadata": {},
   "outputs": [
    {
     "data": {
      "text/plain": [
       "<Axes: ylabel='Count'>"
      ]
     },
     "execution_count": 35,
     "metadata": {},
     "output_type": "execute_result"
    },
    {
     "data": {
      "image/png": "[encoded data removed]",
      "text/plain": [
       "<Figure size 640x480 with 1 Axes>"
      ]
     },
     "metadata": {},
     "output_type": "display_data"
    }
   ],
   "source": [
    "sns.histplot(tag_counts)"
   ]
  },
  {
   "cell_type": "code",
   "execution_count": null,
   "id": "aab41e87-a87e-4e35-a8cf-84cbff8444e7",
   "metadata": {},
   "outputs": [],
   "source": []
  }
 ],
 "metadata": {
  "kernelspec": {
   "display_name": "Python 3 (ipykernel)",
   "language": "python",
   "name": "python3"
  },
  "language_info": {
   "codemirror_mode": {
    "name": "ipython",
    "version": 3
   },
   "file_extension": ".py",
   "mimetype": "text/x-python",
   "name": "python",
   "nbconvert_exporter": "python",
   "pygments_lexer": "ipython3",
   "version": "3.10.10"
  }
 },
 "nbformat": 4,
 "nbformat_minor": 5
}
